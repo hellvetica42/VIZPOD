{
 "cells": [
  {
   "cell_type": "code",
   "execution_count": 9,
   "id": "fe0b8662",
   "metadata": {
    "collapsed": true,
    "scrolled": true
   },
   "outputs": [
    {
     "name": "stdout",
     "output_type": "stream",
     "text": [
      "Requirement already satisfied: ipywidgets in d:\\windowsfiles\\packages and environments\\.conda\\envs\\lumen\\lib\\site-packages (7.6.5)\n",
      "Requirement already satisfied: ipykernel>=4.5.1 in c:\\users\\petar\\appdata\\roaming\\python\\python39\\site-packages (from ipywidgets) (5.4.3)\n",
      "Requirement already satisfied: nbformat>=4.2.0 in d:\\windowsfiles\\packages and environments\\.conda\\envs\\lumen\\lib\\site-packages (from ipywidgets) (5.1.3)\n",
      "Requirement already satisfied: jupyterlab-widgets>=1.0.0 in d:\\windowsfiles\\packages and environments\\.conda\\envs\\lumen\\lib\\site-packages (from ipywidgets) (1.0.0)\n",
      "Requirement already satisfied: ipython-genutils~=0.2.0 in c:\\users\\petar\\appdata\\roaming\\python\\python39\\site-packages (from ipywidgets) (0.2.0)\n",
      "Requirement already satisfied: traitlets>=4.3.1 in c:\\users\\petar\\appdata\\roaming\\python\\python39\\site-packages (from ipywidgets) (5.0.5)\n",
      "Requirement already satisfied: ipython>=4.0.0 in c:\\users\\petar\\appdata\\roaming\\python\\python39\\site-packages (from ipywidgets) (7.19.0)\n",
      "Requirement already satisfied: widgetsnbextension~=3.5.0 in d:\\windowsfiles\\packages and environments\\.conda\\envs\\lumen\\lib\\site-packages (from ipywidgets) (3.5.1)\n",
      "Requirement already satisfied: tornado>=4.2 in c:\\users\\petar\\appdata\\roaming\\python\\python39\\site-packages (from ipykernel>=4.5.1->ipywidgets) (6.1)\n",
      "Requirement already satisfied: jupyter-client in c:\\users\\petar\\appdata\\roaming\\python\\python39\\site-packages (from ipykernel>=4.5.1->ipywidgets) (6.1.11)\n",
      "Requirement already satisfied: pickleshare in c:\\users\\petar\\appdata\\roaming\\python\\python39\\site-packages (from ipython>=4.0.0->ipywidgets) (0.7.5)\n",
      "Requirement already satisfied: pygments in c:\\users\\petar\\appdata\\roaming\\python\\python39\\site-packages (from ipython>=4.0.0->ipywidgets) (2.7.4)\n",
      "Requirement already satisfied: colorama in c:\\users\\petar\\appdata\\roaming\\python\\python39\\site-packages (from ipython>=4.0.0->ipywidgets) (0.4.4)\n",
      "Requirement already satisfied: jedi>=0.10 in c:\\users\\petar\\appdata\\roaming\\python\\python39\\site-packages (from ipython>=4.0.0->ipywidgets) (0.18.0)\n",
      "Requirement already satisfied: decorator in c:\\users\\petar\\appdata\\roaming\\python\\python39\\site-packages (from ipython>=4.0.0->ipywidgets) (4.4.2)\n",
      "Requirement already satisfied: prompt-toolkit!=3.0.0,!=3.0.1,<3.1.0,>=2.0.0 in c:\\users\\petar\\appdata\\roaming\\python\\python39\\site-packages (from ipython>=4.0.0->ipywidgets) (3.0.10)\n",
      "Requirement already satisfied: backcall in c:\\users\\petar\\appdata\\roaming\\python\\python39\\site-packages (from ipython>=4.0.0->ipywidgets) (0.2.0)\n",
      "Requirement already satisfied: setuptools>=18.5 in d:\\windowsfiles\\packages and environments\\.conda\\envs\\lumen\\lib\\site-packages (from ipython>=4.0.0->ipywidgets) (58.0.4)\n",
      "Requirement already satisfied: parso<0.9.0,>=0.8.0 in c:\\users\\petar\\appdata\\roaming\\python\\python39\\site-packages (from jedi>=0.10->ipython>=4.0.0->ipywidgets) (0.8.1)\n",
      "Requirement already satisfied: jsonschema!=2.5.0,>=2.4 in d:\\windowsfiles\\packages and environments\\.conda\\envs\\lumen\\lib\\site-packages (from nbformat>=4.2.0->ipywidgets) (3.2.0)\n",
      "Requirement already satisfied: jupyter-core in c:\\users\\petar\\appdata\\roaming\\python\\python39\\site-packages (from nbformat>=4.2.0->ipywidgets) (4.7.0)\n",
      "Requirement already satisfied: pyrsistent>=0.14.0 in d:\\windowsfiles\\packages and environments\\.conda\\envs\\lumen\\lib\\site-packages (from jsonschema!=2.5.0,>=2.4->nbformat>=4.2.0->ipywidgets) (0.18.0)\n",
      "Requirement already satisfied: six>=1.11.0 in c:\\users\\petar\\appdata\\roaming\\python\\python39\\site-packages (from jsonschema!=2.5.0,>=2.4->nbformat>=4.2.0->ipywidgets) (1.15.0)\n",
      "Requirement already satisfied: attrs>=17.4.0 in d:\\windowsfiles\\packages and environments\\.conda\\envs\\lumen\\lib\\site-packages (from jsonschema!=2.5.0,>=2.4->nbformat>=4.2.0->ipywidgets) (21.4.0)\n",
      "Requirement already satisfied: wcwidth in c:\\users\\petar\\appdata\\roaming\\python\\python39\\site-packages (from prompt-toolkit!=3.0.0,!=3.0.1,<3.1.0,>=2.0.0->ipython>=4.0.0->ipywidgets) (0.2.5)\n",
      "Requirement already satisfied: notebook>=4.4.1 in d:\\windowsfiles\\packages and environments\\.conda\\envs\\lumen\\lib\\site-packages (from widgetsnbextension~=3.5.0->ipywidgets) (6.4.6)\n",
      "Requirement already satisfied: terminado>=0.8.3 in d:\\windowsfiles\\packages and environments\\.conda\\envs\\lumen\\lib\\site-packages (from notebook>=4.4.1->widgetsnbextension~=3.5.0->ipywidgets) (0.13.1)\n",
      "Requirement already satisfied: argon2-cffi in d:\\windowsfiles\\packages and environments\\.conda\\envs\\lumen\\lib\\site-packages (from notebook>=4.4.1->widgetsnbextension~=3.5.0->ipywidgets) (20.1.0)\n",
      "Requirement already satisfied: pyzmq>=17 in c:\\users\\petar\\appdata\\roaming\\python\\python39\\site-packages (from notebook>=4.4.1->widgetsnbextension~=3.5.0->ipywidgets) (21.0.0)\n",
      "Requirement already satisfied: nbconvert in d:\\windowsfiles\\packages and environments\\.conda\\envs\\lumen\\lib\\site-packages (from notebook>=4.4.1->widgetsnbextension~=3.5.0->ipywidgets) (6.1.0)\n",
      "Requirement already satisfied: prometheus-client in d:\\windowsfiles\\packages and environments\\.conda\\envs\\lumen\\lib\\site-packages (from notebook>=4.4.1->widgetsnbextension~=3.5.0->ipywidgets) (0.13.1)\n",
      "Requirement already satisfied: jinja2 in d:\\windowsfiles\\packages and environments\\.conda\\envs\\lumen\\lib\\site-packages (from notebook>=4.4.1->widgetsnbextension~=3.5.0->ipywidgets) (3.0.2)\n",
      "Requirement already satisfied: nest-asyncio>=1.5 in d:\\windowsfiles\\packages and environments\\.conda\\envs\\lumen\\lib\\site-packages (from notebook>=4.4.1->widgetsnbextension~=3.5.0->ipywidgets) (1.5.1)\n",
      "Requirement already satisfied: Send2Trash>=1.8.0 in d:\\windowsfiles\\packages and environments\\.conda\\envs\\lumen\\lib\\site-packages (from notebook>=4.4.1->widgetsnbextension~=3.5.0->ipywidgets) (1.8.0)\n",
      "Requirement already satisfied: python-dateutil>=2.1 in c:\\users\\petar\\appdata\\roaming\\python\\python39\\site-packages (from jupyter-client->ipykernel>=4.5.1->ipywidgets) (2.8.1)\n",
      "Requirement already satisfied: pywin32>=1.0 in d:\\windowsfiles\\packages and environments\\.conda\\envs\\lumen\\lib\\site-packages (from jupyter-core->nbformat>=4.2.0->ipywidgets) (302)\n",
      "Requirement already satisfied: pywinpty>=1.1.0 in d:\\windowsfiles\\packages and environments\\.conda\\envs\\lumen\\lib\\site-packages (from terminado>=0.8.3->notebook>=4.4.1->widgetsnbextension~=3.5.0->ipywidgets) (2.0.2)\n",
      "Requirement already satisfied: cffi>=1.0.0 in d:\\windowsfiles\\packages and environments\\.conda\\envs\\lumen\\lib\\site-packages (from argon2-cffi->notebook>=4.4.1->widgetsnbextension~=3.5.0->ipywidgets) (1.15.0)\n",
      "Requirement already satisfied: pycparser in d:\\windowsfiles\\packages and environments\\.conda\\envs\\lumen\\lib\\site-packages (from cffi>=1.0.0->argon2-cffi->notebook>=4.4.1->widgetsnbextension~=3.5.0->ipywidgets) (2.21)\n",
      "Requirement already satisfied: MarkupSafe>=2.0 in d:\\windowsfiles\\packages and environments\\.conda\\envs\\lumen\\lib\\site-packages (from jinja2->notebook>=4.4.1->widgetsnbextension~=3.5.0->ipywidgets) (2.0.1)\n",
      "Requirement already satisfied: jupyterlab-pygments in d:\\windowsfiles\\packages and environments\\.conda\\envs\\lumen\\lib\\site-packages (from nbconvert->notebook>=4.4.1->widgetsnbextension~=3.5.0->ipywidgets) (0.1.2)\n",
      "Requirement already satisfied: entrypoints>=0.2.2 in d:\\windowsfiles\\packages and environments\\.conda\\envs\\lumen\\lib\\site-packages (from nbconvert->notebook>=4.4.1->widgetsnbextension~=3.5.0->ipywidgets) (0.3)\n",
      "Requirement already satisfied: pandocfilters>=1.4.1 in d:\\windowsfiles\\packages and environments\\.conda\\envs\\lumen\\lib\\site-packages (from nbconvert->notebook>=4.4.1->widgetsnbextension~=3.5.0->ipywidgets) (1.5.0)\n",
      "Requirement already satisfied: mistune<2,>=0.8.1 in d:\\windowsfiles\\packages and environments\\.conda\\envs\\lumen\\lib\\site-packages (from nbconvert->notebook>=4.4.1->widgetsnbextension~=3.5.0->ipywidgets) (0.8.4)\n",
      "Requirement already satisfied: defusedxml in d:\\windowsfiles\\packages and environments\\.conda\\envs\\lumen\\lib\\site-packages (from nbconvert->notebook>=4.4.1->widgetsnbextension~=3.5.0->ipywidgets) (0.7.1)\n",
      "Requirement already satisfied: nbclient<0.6.0,>=0.5.0 in d:\\windowsfiles\\packages and environments\\.conda\\envs\\lumen\\lib\\site-packages (from nbconvert->notebook>=4.4.1->widgetsnbextension~=3.5.0->ipywidgets) (0.5.3)\n",
      "Requirement already satisfied: bleach in d:\\windowsfiles\\packages and environments\\.conda\\envs\\lumen\\lib\\site-packages (from nbconvert->notebook>=4.4.1->widgetsnbextension~=3.5.0->ipywidgets) (4.1.0)\n",
      "Requirement already satisfied: testpath in d:\\windowsfiles\\packages and environments\\.conda\\envs\\lumen\\lib\\site-packages (from nbconvert->notebook>=4.4.1->widgetsnbextension~=3.5.0->ipywidgets) (0.5.0)\n",
      "Requirement already satisfied: async-generator in d:\\windowsfiles\\packages and environments\\.conda\\envs\\lumen\\lib\\site-packages (from nbclient<0.6.0,>=0.5.0->nbconvert->notebook>=4.4.1->widgetsnbextension~=3.5.0->ipywidgets) (1.10)\n",
      "Requirement already satisfied: webencodings in d:\\windowsfiles\\packages and environments\\.conda\\envs\\lumen\\lib\\site-packages (from bleach->nbconvert->notebook>=4.4.1->widgetsnbextension~=3.5.0->ipywidgets) (0.5.1)\n",
      "Requirement already satisfied: packaging in d:\\windowsfiles\\packages and environments\\.conda\\envs\\lumen\\lib\\site-packages (from bleach->nbconvert->notebook>=4.4.1->widgetsnbextension~=3.5.0->ipywidgets) (21.3)\n",
      "Requirement already satisfied: pyparsing!=3.0.5,>=2.0.2 in d:\\windowsfiles\\packages and environments\\.conda\\envs\\lumen\\lib\\site-packages (from packaging->bleach->nbconvert->notebook>=4.4.1->widgetsnbextension~=3.5.0->ipywidgets) (3.0.4)\n"
     ]
    },
    {
     "name": "stderr",
     "output_type": "stream",
     "text": [
      "WARNING: You are using pip version 21.0.1; however, version 22.3.1 is available.\n",
      "You should consider upgrading via the 'D:\\WindowsFiles\\Packages and Environments\\.conda\\envs\\lumen\\python.exe -m pip install --upgrade pip' command.\n"
     ]
    },
    {
     "name": "stdout",
     "output_type": "stream",
     "text": [
      "Requirement already satisfied: pandas in d:\\windowsfiles\\packages and environments\\.conda\\envs\\lumen\\lib\\site-packages (1.3.5)\n",
      "Requirement already satisfied: python-dateutil>=2.7.3 in c:\\users\\petar\\appdata\\roaming\\python\\python39\\site-packages (from pandas) (2.8.1)\n",
      "Requirement already satisfied: numpy>=1.17.3 in d:\\windowsfiles\\packages and environments\\.conda\\envs\\lumen\\lib\\site-packages (from pandas) (1.21.5)\n",
      "Requirement already satisfied: pytz>=2017.3 in d:\\windowsfiles\\packages and environments\\.conda\\envs\\lumen\\lib\\site-packages (from pandas) (2021.3)\n",
      "Requirement already satisfied: six>=1.5 in c:\\users\\petar\\appdata\\roaming\\python\\python39\\site-packages (from python-dateutil>=2.7.3->pandas) (1.15.0)\n"
     ]
    },
    {
     "name": "stderr",
     "output_type": "stream",
     "text": [
      "WARNING: You are using pip version 21.0.1; however, version 22.3.1 is available.\n",
      "You should consider upgrading via the 'D:\\WindowsFiles\\Packages and Environments\\.conda\\envs\\lumen\\python.exe -m pip install --upgrade pip' command.\n"
     ]
    },
    {
     "name": "stdout",
     "output_type": "stream",
     "text": [
      "Requirement already satisfied: chart_studio in d:\\windowsfiles\\packages and environments\\.conda\\envs\\lumen\\lib\\site-packages (1.1.0)\n",
      "Requirement already satisfied: plotly in d:\\windowsfiles\\packages and environments\\.conda\\envs\\lumen\\lib\\site-packages (from chart_studio) (5.6.0)\n",
      "Requirement already satisfied: requests in d:\\windowsfiles\\packages and environments\\.conda\\envs\\lumen\\lib\\site-packages (from chart_studio) (2.27.1)\n",
      "Requirement already satisfied: retrying>=1.3.3 in d:\\windowsfiles\\packages and environments\\.conda\\envs\\lumen\\lib\\site-packages (from chart_studio) (1.3.4)\n",
      "Requirement already satisfied: six in c:\\users\\petar\\appdata\\roaming\\python\\python39\\site-packages (from chart_studio) (1.15.0)\n",
      "Requirement already satisfied: tenacity>=6.2.0 in d:\\windowsfiles\\packages and environments\\.conda\\envs\\lumen\\lib\\site-packages (from plotly->chart_studio) (8.0.1)\n",
      "Requirement already satisfied: certifi>=2017.4.17 in d:\\windowsfiles\\packages and environments\\.conda\\envs\\lumen\\lib\\site-packages (from requests->chart_studio) (2022.12.7)\n",
      "Requirement already satisfied: charset-normalizer~=2.0.0 in d:\\windowsfiles\\packages and environments\\.conda\\envs\\lumen\\lib\\site-packages (from requests->chart_studio) (2.0.12)\n",
      "Requirement already satisfied: idna<4,>=2.5 in d:\\windowsfiles\\packages and environments\\.conda\\envs\\lumen\\lib\\site-packages (from requests->chart_studio) (3.3)\n",
      "Requirement already satisfied: urllib3<1.27,>=1.21.1 in d:\\windowsfiles\\packages and environments\\.conda\\envs\\lumen\\lib\\site-packages (from requests->chart_studio) (1.26.8)\n"
     ]
    },
    {
     "name": "stderr",
     "output_type": "stream",
     "text": [
      "WARNING: You are using pip version 21.0.1; however, version 22.3.1 is available.\n",
      "You should consider upgrading via the 'D:\\WindowsFiles\\Packages and Environments\\.conda\\envs\\lumen\\python.exe -m pip install --upgrade pip' command.\n"
     ]
    },
    {
     "name": "stdout",
     "output_type": "stream",
     "text": [
      "Requirement already satisfied: cufflinks in d:\\windowsfiles\\packages and environments\\.conda\\envs\\lumen\\lib\\site-packages (0.17.3)\n",
      "Requirement already satisfied: ipywidgets>=7.0.0 in d:\\windowsfiles\\packages and environments\\.conda\\envs\\lumen\\lib\\site-packages (from cufflinks) (7.6.5)\n",
      "Requirement already satisfied: plotly>=4.1.1 in d:\\windowsfiles\\packages and environments\\.conda\\envs\\lumen\\lib\\site-packages (from cufflinks) (5.6.0)\n",
      "Requirement already satisfied: colorlover>=0.2.1 in d:\\windowsfiles\\packages and environments\\.conda\\envs\\lumen\\lib\\site-packages (from cufflinks) (0.3.0)\n",
      "Requirement already satisfied: six>=1.9.0 in c:\\users\\petar\\appdata\\roaming\\python\\python39\\site-packages (from cufflinks) (1.15.0)\n",
      "Requirement already satisfied: numpy>=1.9.2 in d:\\windowsfiles\\packages and environments\\.conda\\envs\\lumen\\lib\\site-packages (from cufflinks) (1.21.5)\n",
      "Requirement already satisfied: setuptools>=34.4.1 in d:\\windowsfiles\\packages and environments\\.conda\\envs\\lumen\\lib\\site-packages (from cufflinks) (58.0.4)\n",
      "Requirement already satisfied: pandas>=0.19.2 in d:\\windowsfiles\\packages and environments\\.conda\\envs\\lumen\\lib\\site-packages (from cufflinks) (1.3.5)\n",
      "Requirement already satisfied: ipython>=5.3.0 in c:\\users\\petar\\appdata\\roaming\\python\\python39\\site-packages (from cufflinks) (7.19.0)\n",
      "Requirement already satisfied: pygments in c:\\users\\petar\\appdata\\roaming\\python\\python39\\site-packages (from ipython>=5.3.0->cufflinks) (2.7.4)\n",
      "Requirement already satisfied: traitlets>=4.2 in c:\\users\\petar\\appdata\\roaming\\python\\python39\\site-packages (from ipython>=5.3.0->cufflinks) (5.0.5)\n",
      "Requirement already satisfied: backcall in c:\\users\\petar\\appdata\\roaming\\python\\python39\\site-packages (from ipython>=5.3.0->cufflinks) (0.2.0)\n",
      "Requirement already satisfied: jedi>=0.10 in c:\\users\\petar\\appdata\\roaming\\python\\python39\\site-packages (from ipython>=5.3.0->cufflinks) (0.18.0)\n",
      "Requirement already satisfied: prompt-toolkit!=3.0.0,!=3.0.1,<3.1.0,>=2.0.0 in c:\\users\\petar\\appdata\\roaming\\python\\python39\\site-packages (from ipython>=5.3.0->cufflinks) (3.0.10)\n",
      "Requirement already satisfied: colorama in c:\\users\\petar\\appdata\\roaming\\python\\python39\\site-packages (from ipython>=5.3.0->cufflinks) (0.4.4)\n",
      "Requirement already satisfied: pickleshare in c:\\users\\petar\\appdata\\roaming\\python\\python39\\site-packages (from ipython>=5.3.0->cufflinks) (0.7.5)\n",
      "Requirement already satisfied: decorator in c:\\users\\petar\\appdata\\roaming\\python\\python39\\site-packages (from ipython>=5.3.0->cufflinks) (4.4.2)\n",
      "Requirement already satisfied: ipython-genutils~=0.2.0 in c:\\users\\petar\\appdata\\roaming\\python\\python39\\site-packages (from ipywidgets>=7.0.0->cufflinks) (0.2.0)\n",
      "Requirement already satisfied: widgetsnbextension~=3.5.0 in d:\\windowsfiles\\packages and environments\\.conda\\envs\\lumen\\lib\\site-packages (from ipywidgets>=7.0.0->cufflinks) (3.5.1)\n",
      "Requirement already satisfied: ipykernel>=4.5.1 in c:\\users\\petar\\appdata\\roaming\\python\\python39\\site-packages (from ipywidgets>=7.0.0->cufflinks) (5.4.3)\n",
      "Requirement already satisfied: nbformat>=4.2.0 in d:\\windowsfiles\\packages and environments\\.conda\\envs\\lumen\\lib\\site-packages (from ipywidgets>=7.0.0->cufflinks) (5.1.3)\n",
      "Requirement already satisfied: jupyterlab-widgets>=1.0.0 in d:\\windowsfiles\\packages and environments\\.conda\\envs\\lumen\\lib\\site-packages (from ipywidgets>=7.0.0->cufflinks) (1.0.0)\n",
      "Requirement already satisfied: tornado>=4.2 in c:\\users\\petar\\appdata\\roaming\\python\\python39\\site-packages (from ipykernel>=4.5.1->ipywidgets>=7.0.0->cufflinks) (6.1)\n",
      "Requirement already satisfied: jupyter-client in c:\\users\\petar\\appdata\\roaming\\python\\python39\\site-packages (from ipykernel>=4.5.1->ipywidgets>=7.0.0->cufflinks) (6.1.11)\n",
      "Requirement already satisfied: parso<0.9.0,>=0.8.0 in c:\\users\\petar\\appdata\\roaming\\python\\python39\\site-packages (from jedi>=0.10->ipython>=5.3.0->cufflinks) (0.8.1)\n",
      "Requirement already satisfied: jsonschema!=2.5.0,>=2.4 in d:\\windowsfiles\\packages and environments\\.conda\\envs\\lumen\\lib\\site-packages (from nbformat>=4.2.0->ipywidgets>=7.0.0->cufflinks) (3.2.0)\n",
      "Requirement already satisfied: jupyter-core in c:\\users\\petar\\appdata\\roaming\\python\\python39\\site-packages (from nbformat>=4.2.0->ipywidgets>=7.0.0->cufflinks) (4.7.0)\n",
      "Requirement already satisfied: pyrsistent>=0.14.0 in d:\\windowsfiles\\packages and environments\\.conda\\envs\\lumen\\lib\\site-packages (from jsonschema!=2.5.0,>=2.4->nbformat>=4.2.0->ipywidgets>=7.0.0->cufflinks) (0.18.0)\n",
      "Requirement already satisfied: attrs>=17.4.0 in d:\\windowsfiles\\packages and environments\\.conda\\envs\\lumen\\lib\\site-packages (from jsonschema!=2.5.0,>=2.4->nbformat>=4.2.0->ipywidgets>=7.0.0->cufflinks) (21.4.0)\n",
      "Requirement already satisfied: pytz>=2017.3 in d:\\windowsfiles\\packages and environments\\.conda\\envs\\lumen\\lib\\site-packages (from pandas>=0.19.2->cufflinks) (2021.3)\n",
      "Requirement already satisfied: python-dateutil>=2.7.3 in c:\\users\\petar\\appdata\\roaming\\python\\python39\\site-packages (from pandas>=0.19.2->cufflinks) (2.8.1)\n",
      "Requirement already satisfied: tenacity>=6.2.0 in d:\\windowsfiles\\packages and environments\\.conda\\envs\\lumen\\lib\\site-packages (from plotly>=4.1.1->cufflinks) (8.0.1)\n",
      "Requirement already satisfied: wcwidth in c:\\users\\petar\\appdata\\roaming\\python\\python39\\site-packages (from prompt-toolkit!=3.0.0,!=3.0.1,<3.1.0,>=2.0.0->ipython>=5.3.0->cufflinks) (0.2.5)\n",
      "Requirement already satisfied: notebook>=4.4.1 in d:\\windowsfiles\\packages and environments\\.conda\\envs\\lumen\\lib\\site-packages (from widgetsnbextension~=3.5.0->ipywidgets>=7.0.0->cufflinks) (6.4.6)\n",
      "Requirement already satisfied: jinja2 in d:\\windowsfiles\\packages and environments\\.conda\\envs\\lumen\\lib\\site-packages (from notebook>=4.4.1->widgetsnbextension~=3.5.0->ipywidgets>=7.0.0->cufflinks) (3.0.2)\n",
      "Requirement already satisfied: argon2-cffi in d:\\windowsfiles\\packages and environments\\.conda\\envs\\lumen\\lib\\site-packages (from notebook>=4.4.1->widgetsnbextension~=3.5.0->ipywidgets>=7.0.0->cufflinks) (20.1.0)\n",
      "Requirement already satisfied: nbconvert in d:\\windowsfiles\\packages and environments\\.conda\\envs\\lumen\\lib\\site-packages (from notebook>=4.4.1->widgetsnbextension~=3.5.0->ipywidgets>=7.0.0->cufflinks) (6.1.0)\n",
      "Requirement already satisfied: Send2Trash>=1.8.0 in d:\\windowsfiles\\packages and environments\\.conda\\envs\\lumen\\lib\\site-packages (from notebook>=4.4.1->widgetsnbextension~=3.5.0->ipywidgets>=7.0.0->cufflinks) (1.8.0)\n",
      "Requirement already satisfied: nest-asyncio>=1.5 in d:\\windowsfiles\\packages and environments\\.conda\\envs\\lumen\\lib\\site-packages (from notebook>=4.4.1->widgetsnbextension~=3.5.0->ipywidgets>=7.0.0->cufflinks) (1.5.1)\n",
      "Requirement already satisfied: pyzmq>=17 in c:\\users\\petar\\appdata\\roaming\\python\\python39\\site-packages (from notebook>=4.4.1->widgetsnbextension~=3.5.0->ipywidgets>=7.0.0->cufflinks) (21.0.0)\n",
      "Requirement already satisfied: prometheus-client in d:\\windowsfiles\\packages and environments\\.conda\\envs\\lumen\\lib\\site-packages (from notebook>=4.4.1->widgetsnbextension~=3.5.0->ipywidgets>=7.0.0->cufflinks) (0.13.1)\n",
      "Requirement already satisfied: terminado>=0.8.3 in d:\\windowsfiles\\packages and environments\\.conda\\envs\\lumen\\lib\\site-packages (from notebook>=4.4.1->widgetsnbextension~=3.5.0->ipywidgets>=7.0.0->cufflinks) (0.13.1)\n",
      "Requirement already satisfied: pywin32>=1.0 in d:\\windowsfiles\\packages and environments\\.conda\\envs\\lumen\\lib\\site-packages (from jupyter-core->nbformat>=4.2.0->ipywidgets>=7.0.0->cufflinks) (302)\n",
      "Requirement already satisfied: pywinpty>=1.1.0 in d:\\windowsfiles\\packages and environments\\.conda\\envs\\lumen\\lib\\site-packages (from terminado>=0.8.3->notebook>=4.4.1->widgetsnbextension~=3.5.0->ipywidgets>=7.0.0->cufflinks) (2.0.2)\n",
      "Requirement already satisfied: cffi>=1.0.0 in d:\\windowsfiles\\packages and environments\\.conda\\envs\\lumen\\lib\\site-packages (from argon2-cffi->notebook>=4.4.1->widgetsnbextension~=3.5.0->ipywidgets>=7.0.0->cufflinks) (1.15.0)\n",
      "Requirement already satisfied: pycparser in d:\\windowsfiles\\packages and environments\\.conda\\envs\\lumen\\lib\\site-packages (from cffi>=1.0.0->argon2-cffi->notebook>=4.4.1->widgetsnbextension~=3.5.0->ipywidgets>=7.0.0->cufflinks) (2.21)\n",
      "Requirement already satisfied: MarkupSafe>=2.0 in d:\\windowsfiles\\packages and environments\\.conda\\envs\\lumen\\lib\\site-packages (from jinja2->notebook>=4.4.1->widgetsnbextension~=3.5.0->ipywidgets>=7.0.0->cufflinks) (2.0.1)\n",
      "Requirement already satisfied: testpath in d:\\windowsfiles\\packages and environments\\.conda\\envs\\lumen\\lib\\site-packages (from nbconvert->notebook>=4.4.1->widgetsnbextension~=3.5.0->ipywidgets>=7.0.0->cufflinks) (0.5.0)\n",
      "Requirement already satisfied: mistune<2,>=0.8.1 in d:\\windowsfiles\\packages and environments\\.conda\\envs\\lumen\\lib\\site-packages (from nbconvert->notebook>=4.4.1->widgetsnbextension~=3.5.0->ipywidgets>=7.0.0->cufflinks) (0.8.4)\n",
      "Requirement already satisfied: pandocfilters>=1.4.1 in d:\\windowsfiles\\packages and environments\\.conda\\envs\\lumen\\lib\\site-packages (from nbconvert->notebook>=4.4.1->widgetsnbextension~=3.5.0->ipywidgets>=7.0.0->cufflinks) (1.5.0)\n",
      "Requirement already satisfied: defusedxml in d:\\windowsfiles\\packages and environments\\.conda\\envs\\lumen\\lib\\site-packages (from nbconvert->notebook>=4.4.1->widgetsnbextension~=3.5.0->ipywidgets>=7.0.0->cufflinks) (0.7.1)\n",
      "Requirement already satisfied: bleach in d:\\windowsfiles\\packages and environments\\.conda\\envs\\lumen\\lib\\site-packages (from nbconvert->notebook>=4.4.1->widgetsnbextension~=3.5.0->ipywidgets>=7.0.0->cufflinks) (4.1.0)\n",
      "Requirement already satisfied: jupyterlab-pygments in d:\\windowsfiles\\packages and environments\\.conda\\envs\\lumen\\lib\\site-packages (from nbconvert->notebook>=4.4.1->widgetsnbextension~=3.5.0->ipywidgets>=7.0.0->cufflinks) (0.1.2)\n",
      "Requirement already satisfied: nbclient<0.6.0,>=0.5.0 in d:\\windowsfiles\\packages and environments\\.conda\\envs\\lumen\\lib\\site-packages (from nbconvert->notebook>=4.4.1->widgetsnbextension~=3.5.0->ipywidgets>=7.0.0->cufflinks) (0.5.3)\n",
      "Requirement already satisfied: entrypoints>=0.2.2 in d:\\windowsfiles\\packages and environments\\.conda\\envs\\lumen\\lib\\site-packages (from nbconvert->notebook>=4.4.1->widgetsnbextension~=3.5.0->ipywidgets>=7.0.0->cufflinks) (0.3)\n",
      "Requirement already satisfied: async-generator in d:\\windowsfiles\\packages and environments\\.conda\\envs\\lumen\\lib\\site-packages (from nbclient<0.6.0,>=0.5.0->nbconvert->notebook>=4.4.1->widgetsnbextension~=3.5.0->ipywidgets>=7.0.0->cufflinks) (1.10)\n",
      "Requirement already satisfied: webencodings in d:\\windowsfiles\\packages and environments\\.conda\\envs\\lumen\\lib\\site-packages (from bleach->nbconvert->notebook>=4.4.1->widgetsnbextension~=3.5.0->ipywidgets>=7.0.0->cufflinks) (0.5.1)\n",
      "Requirement already satisfied: packaging in d:\\windowsfiles\\packages and environments\\.conda\\envs\\lumen\\lib\\site-packages (from bleach->nbconvert->notebook>=4.4.1->widgetsnbextension~=3.5.0->ipywidgets>=7.0.0->cufflinks) (21.3)\n",
      "Requirement already satisfied: pyparsing!=3.0.5,>=2.0.2 in d:\\windowsfiles\\packages and environments\\.conda\\envs\\lumen\\lib\\site-packages (from packaging->bleach->nbconvert->notebook>=4.4.1->widgetsnbextension~=3.5.0->ipywidgets>=7.0.0->cufflinks) (3.0.4)\n"
     ]
    },
    {
     "name": "stderr",
     "output_type": "stream",
     "text": [
      "WARNING: You are using pip version 21.0.1; however, version 22.3.1 is available.\n",
      "You should consider upgrading via the 'D:\\WindowsFiles\\Packages and Environments\\.conda\\envs\\lumen\\python.exe -m pip install --upgrade pip' command.\n"
     ]
    },
    {
     "name": "stdout",
     "output_type": "stream",
     "text": [
      "Collecting wordcloud"
     ]
    },
    {
     "name": "stderr",
     "output_type": "stream",
     "text": [
      "WARNING: You are using pip version 21.0.1; however, version 22.3.1 is available.\n",
      "You should consider upgrading via the 'D:\\WindowsFiles\\Packages and Environments\\.conda\\envs\\lumen\\python.exe -m pip install --upgrade pip' command.\n"
     ]
    },
    {
     "name": "stdout",
     "output_type": "stream",
     "text": [
      "\n",
      "  Downloading wordcloud-1.8.2.2-cp39-cp39-win_amd64.whl (153 kB)\n",
      "Requirement already satisfied: matplotlib in d:\\windowsfiles\\packages and environments\\.conda\\envs\\lumen\\lib\\site-packages (from wordcloud) (3.5.1)\n",
      "Requirement already satisfied: pillow in d:\\windowsfiles\\packages and environments\\.conda\\envs\\lumen\\lib\\site-packages (from wordcloud) (9.0.1)\n",
      "Requirement already satisfied: numpy>=1.6.1 in d:\\windowsfiles\\packages and environments\\.conda\\envs\\lumen\\lib\\site-packages (from wordcloud) (1.21.5)\n",
      "Requirement already satisfied: fonttools>=4.22.0 in d:\\windowsfiles\\packages and environments\\.conda\\envs\\lumen\\lib\\site-packages (from matplotlib->wordcloud) (4.29.1)\n",
      "Requirement already satisfied: pyparsing>=2.2.1 in d:\\windowsfiles\\packages and environments\\.conda\\envs\\lumen\\lib\\site-packages (from matplotlib->wordcloud) (3.0.4)\n",
      "Requirement already satisfied: packaging>=20.0 in d:\\windowsfiles\\packages and environments\\.conda\\envs\\lumen\\lib\\site-packages (from matplotlib->wordcloud) (21.3)\n",
      "Requirement already satisfied: python-dateutil>=2.7 in c:\\users\\petar\\appdata\\roaming\\python\\python39\\site-packages (from matplotlib->wordcloud) (2.8.1)\n",
      "Requirement already satisfied: cycler>=0.10 in d:\\windowsfiles\\packages and environments\\.conda\\envs\\lumen\\lib\\site-packages (from matplotlib->wordcloud) (0.11.0)\n",
      "Requirement already satisfied: kiwisolver>=1.0.1 in d:\\windowsfiles\\packages and environments\\.conda\\envs\\lumen\\lib\\site-packages (from matplotlib->wordcloud) (1.3.2)\n",
      "Requirement already satisfied: six>=1.5 in c:\\users\\petar\\appdata\\roaming\\python\\python39\\site-packages (from python-dateutil>=2.7->matplotlib->wordcloud) (1.15.0)\n",
      "Installing collected packages: wordcloud\n",
      "Successfully installed wordcloud-1.8.2.2\n"
     ]
    }
   ],
   "source": [
    "!pip install ipywidgets\n",
    "!pip install pandas\n",
    "!pip install chart_studio\n",
    "!pip install cufflinks\n",
    "!pip install wordcloud"
   ]
  },
  {
   "cell_type": "code",
   "execution_count": 105,
   "id": "e9b67e21",
   "metadata": {
    "scrolled": false
   },
   "outputs": [
    {
     "name": "stderr",
     "output_type": "stream",
     "text": [
      "Enabling notebook extension jupyter-js-widgets/extension...\n",
      "      - Validating: ok\n"
     ]
    }
   ],
   "source": [
    "!jupyter nbextension enable --py widgetsnbextension"
   ]
  },
  {
   "cell_type": "code",
   "execution_count": 106,
   "id": "f084b369",
   "metadata": {
    "scrolled": false
   },
   "outputs": [
    {
     "data": {
      "text/html": [
       "        <script type=\"text/javascript\">\n",
       "        window.PlotlyConfig = {MathJaxConfig: 'local'};\n",
       "        if (window.MathJax) {MathJax.Hub.Config({SVG: {font: \"STIX-Web\"}});}\n",
       "        if (typeof require !== 'undefined') {\n",
       "        require.undef(\"plotly\");\n",
       "        requirejs.config({\n",
       "            paths: {\n",
       "                'plotly': ['https://cdn.plot.ly/plotly-2.9.0.min']\n",
       "            }\n",
       "        });\n",
       "        require(['plotly'], function(Plotly) {\n",
       "            window._Plotly = Plotly;\n",
       "        });\n",
       "        }\n",
       "        </script>\n",
       "        "
      ]
     },
     "metadata": {},
     "output_type": "display_data"
    }
   ],
   "source": [
    "import pandas as pd\n",
    "import numpy as np\n",
    "import ipywidgets as widgets\n",
    "from ipywidgets import interact, interact_manual\n",
    "from IPython.display import display \n",
    "import cufflinks as cf\n",
    "from wordcloud import WordCloud\n",
    "cf.go_offline()\n",
    "cf.set_config_file(offline=False, world_readable=True)\n"
   ]
  },
  {
   "cell_type": "code",
   "execution_count": 107,
   "id": "fcfd5791",
   "metadata": {
    "scrolled": false
   },
   "outputs": [
    {
     "data": {
      "text/html": [
       "<div>\n",
       "<style scoped>\n",
       "    .dataframe tbody tr th:only-of-type {\n",
       "        vertical-align: middle;\n",
       "    }\n",
       "\n",
       "    .dataframe tbody tr th {\n",
       "        vertical-align: top;\n",
       "    }\n",
       "\n",
       "    .dataframe thead th {\n",
       "        text-align: right;\n",
       "    }\n",
       "</style>\n",
       "<table border=\"1\" class=\"dataframe\">\n",
       "  <thead>\n",
       "    <tr style=\"text-align: right;\">\n",
       "      <th></th>\n",
       "      <th>Unnamed: 0</th>\n",
       "      <th>Title</th>\n",
       "      <th>Description</th>\n",
       "      <th>Content</th>\n",
       "      <th>tsne_x</th>\n",
       "      <th>tsne_y</th>\n",
       "      <th>pca_x</th>\n",
       "      <th>pca_y</th>\n",
       "      <th>umap_x</th>\n",
       "      <th>umap_y</th>\n",
       "      <th>...</th>\n",
       "      <th>km_11</th>\n",
       "      <th>km_12</th>\n",
       "      <th>km_13</th>\n",
       "      <th>km_14</th>\n",
       "      <th>km_15</th>\n",
       "      <th>km_16</th>\n",
       "      <th>km_17</th>\n",
       "      <th>km_18</th>\n",
       "      <th>km_19</th>\n",
       "      <th>km_20</th>\n",
       "    </tr>\n",
       "  </thead>\n",
       "  <tbody>\n",
       "    <tr>\n",
       "      <th>4706</th>\n",
       "      <td>159293</td>\n",
       "      <td>Hvala Gradu na Višnjiku, on je svima na diku: ...</td>\n",
       "      <td>Dobro je vrijeme za jutarnje aktivnosti na Viš...</td>\n",
       "      <td>['hvala', 'gradu', 'višnjiku', 'svima', 'diku'...</td>\n",
       "      <td>30.317368</td>\n",
       "      <td>-2.036094</td>\n",
       "      <td>-0.260421</td>\n",
       "      <td>0.413941</td>\n",
       "      <td>9.666508</td>\n",
       "      <td>5.448550</td>\n",
       "      <td>...</td>\n",
       "      <td>4</td>\n",
       "      <td>2</td>\n",
       "      <td>4</td>\n",
       "      <td>13</td>\n",
       "      <td>14</td>\n",
       "      <td>14</td>\n",
       "      <td>6</td>\n",
       "      <td>16</td>\n",
       "      <td>2</td>\n",
       "      <td>2</td>\n",
       "    </tr>\n",
       "    <tr>\n",
       "      <th>3271</th>\n",
       "      <td>213037</td>\n",
       "      <td>Jedna od najljepših sportašica svijeta ne smij...</td>\n",
       "      <td>Paige Spiranac, 29-godišnja instruktorica golf...</td>\n",
       "      <td>['najljepših', 'sportašica', 'svijeta', 'smije...</td>\n",
       "      <td>22.883659</td>\n",
       "      <td>-41.709225</td>\n",
       "      <td>0.186210</td>\n",
       "      <td>0.536237</td>\n",
       "      <td>7.372984</td>\n",
       "      <td>6.611042</td>\n",
       "      <td>...</td>\n",
       "      <td>8</td>\n",
       "      <td>6</td>\n",
       "      <td>8</td>\n",
       "      <td>1</td>\n",
       "      <td>0</td>\n",
       "      <td>0</td>\n",
       "      <td>13</td>\n",
       "      <td>0</td>\n",
       "      <td>13</td>\n",
       "      <td>17</td>\n",
       "    </tr>\n",
       "    <tr>\n",
       "      <th>4106</th>\n",
       "      <td>210489</td>\n",
       "      <td>Sport: Pjanić je na prekretnici. Xavi bira hoć...</td>\n",
       "      <td>ODLUKA bi trebala pasti vrlo brzo.</td>\n",
       "      <td>['sport', 'pjanić', 'prekretnici', 'xavi', 'bi...</td>\n",
       "      <td>-23.460062</td>\n",
       "      <td>-42.150024</td>\n",
       "      <td>0.282042</td>\n",
       "      <td>0.068815</td>\n",
       "      <td>5.058990</td>\n",
       "      <td>4.444923</td>\n",
       "      <td>...</td>\n",
       "      <td>0</td>\n",
       "      <td>7</td>\n",
       "      <td>0</td>\n",
       "      <td>0</td>\n",
       "      <td>2</td>\n",
       "      <td>2</td>\n",
       "      <td>9</td>\n",
       "      <td>7</td>\n",
       "      <td>9</td>\n",
       "      <td>7</td>\n",
       "    </tr>\n",
       "    <tr>\n",
       "      <th>7437</th>\n",
       "      <td>283756</td>\n",
       "      <td>Milanović Pahoru: Slovenija je najbolji hrvats...</td>\n",
       "      <td>Slovenski predsjednik Borut Pahor i hrvatski ...</td>\n",
       "      <td>['milanović', 'pahoru', 'slovenija', 'najbolji...</td>\n",
       "      <td>-40.267387</td>\n",
       "      <td>2.866541</td>\n",
       "      <td>0.382125</td>\n",
       "      <td>-0.749076</td>\n",
       "      <td>9.558304</td>\n",
       "      <td>1.695532</td>\n",
       "      <td>...</td>\n",
       "      <td>1</td>\n",
       "      <td>4</td>\n",
       "      <td>1</td>\n",
       "      <td>2</td>\n",
       "      <td>8</td>\n",
       "      <td>8</td>\n",
       "      <td>16</td>\n",
       "      <td>6</td>\n",
       "      <td>16</td>\n",
       "      <td>0</td>\n",
       "    </tr>\n",
       "    <tr>\n",
       "      <th>7863</th>\n",
       "      <td>140921</td>\n",
       "      <td>Troskot: Srpska nacionalna manjina jedina ima ...</td>\n",
       "      <td>Zvonimir Troskot, saborski zastupnik Mosta bio...</td>\n",
       "      <td>['troskot', 'srpska', 'nacionalna', 'manjina',...</td>\n",
       "      <td>-35.254398</td>\n",
       "      <td>13.116337</td>\n",
       "      <td>-0.009217</td>\n",
       "      <td>-0.460174</td>\n",
       "      <td>9.051497</td>\n",
       "      <td>2.112939</td>\n",
       "      <td>...</td>\n",
       "      <td>1</td>\n",
       "      <td>4</td>\n",
       "      <td>1</td>\n",
       "      <td>2</td>\n",
       "      <td>8</td>\n",
       "      <td>8</td>\n",
       "      <td>16</td>\n",
       "      <td>6</td>\n",
       "      <td>16</td>\n",
       "      <td>0</td>\n",
       "    </tr>\n",
       "  </tbody>\n",
       "</table>\n",
       "<p>5 rows × 29 columns</p>\n",
       "</div>"
      ],
      "text/plain": [
       "      Unnamed: 0                                              Title  \\\n",
       "4706      159293  Hvala Gradu na Višnjiku, on je svima na diku: ...   \n",
       "3271      213037  Jedna od najljepših sportašica svijeta ne smij...   \n",
       "4106      210489  Sport: Pjanić je na prekretnici. Xavi bira hoć...   \n",
       "7437      283756  Milanović Pahoru: Slovenija je najbolji hrvats...   \n",
       "7863      140921  Troskot: Srpska nacionalna manjina jedina ima ...   \n",
       "\n",
       "                                            Description  \\\n",
       "4706  Dobro je vrijeme za jutarnje aktivnosti na Viš...   \n",
       "3271  Paige Spiranac, 29-godišnja instruktorica golf...   \n",
       "4106                 ODLUKA bi trebala pasti vrlo brzo.   \n",
       "7437   Slovenski predsjednik Borut Pahor i hrvatski ...   \n",
       "7863  Zvonimir Troskot, saborski zastupnik Mosta bio...   \n",
       "\n",
       "                                                Content     tsne_x     tsne_y  \\\n",
       "4706  ['hvala', 'gradu', 'višnjiku', 'svima', 'diku'...  30.317368  -2.036094   \n",
       "3271  ['najljepših', 'sportašica', 'svijeta', 'smije...  22.883659 -41.709225   \n",
       "4106  ['sport', 'pjanić', 'prekretnici', 'xavi', 'bi... -23.460062 -42.150024   \n",
       "7437  ['milanović', 'pahoru', 'slovenija', 'najbolji... -40.267387   2.866541   \n",
       "7863  ['troskot', 'srpska', 'nacionalna', 'manjina',... -35.254398  13.116337   \n",
       "\n",
       "         pca_x     pca_y    umap_x    umap_y  ... km_11 km_12 km_13 km_14  \\\n",
       "4706 -0.260421  0.413941  9.666508  5.448550  ...     4     2     4    13   \n",
       "3271  0.186210  0.536237  7.372984  6.611042  ...     8     6     8     1   \n",
       "4106  0.282042  0.068815  5.058990  4.444923  ...     0     7     0     0   \n",
       "7437  0.382125 -0.749076  9.558304  1.695532  ...     1     4     1     2   \n",
       "7863 -0.009217 -0.460174  9.051497  2.112939  ...     1     4     1     2   \n",
       "\n",
       "     km_15 km_16 km_17 km_18 km_19 km_20  \n",
       "4706    14    14     6    16     2     2  \n",
       "3271     0     0    13     0    13    17  \n",
       "4106     2     2     9     7     9     7  \n",
       "7437     8     8    16     6    16     0  \n",
       "7863     8     8    16     6    16     0  \n",
       "\n",
       "[5 rows x 29 columns]"
      ]
     },
     "execution_count": 107,
     "metadata": {},
     "output_type": "execute_result"
    }
   ],
   "source": [
    "df = pd.read_csv(\"VIZPOD.csv\")\n",
    " #number of points quickly slows down visualisation\n",
    "for km in range(2,21):\n",
    "    df[f'km_{km}'] = df[f'km_{km}'].astype(str)\n",
    "df.sample(5)"
   ]
  },
  {
   "cell_type": "code",
   "execution_count": 111,
   "id": "db26028b",
   "metadata": {
    "scrolled": false
   },
   "outputs": [
    {
     "data": {
      "application/vnd.jupyter.widget-view+json": {
       "model_id": "f97af61e19d4418997ceafe67f55852f",
       "version_major": 2,
       "version_minor": 0
      },
      "text/plain": [
       "interactive(children=(IntSlider(value=6, continuous_update=False, description='Class N#', max=20, min=2), Radi…"
      ]
     },
     "metadata": {},
     "output_type": "display_data"
    }
   ],
   "source": [
    "import plotly.express as px\n",
    "km = widgets.IntSlider(value = 6,\n",
    "                          min = 2, \n",
    "                          max = 20,\n",
    "                          step = 1,\n",
    "                          description = \"Class N#\",\n",
    "                          continuous_update = False)\n",
    "radio = widgets.RadioButtons(options=['TSNE', 'PCA', 'UMAP'])\n",
    "\n",
    "wc = WordCloud(background_color=\"white\", repeat=False, width=1000, height=800)\n",
    "\n",
    "def update_hover(trace, points, selector):\n",
    "    print(trace, points, selector)\n",
    "\n",
    "\n",
    "wcs = None\n",
    "@interact\n",
    "def scatter_plot(km=km, DR_method=radio):\n",
    "    global wcs\n",
    "    if DR_method == 'PCA':\n",
    "        xaxis = 'pca_x'\n",
    "        yaxis = 'pca_y'\n",
    "    elif DR_method == 'TSNE':\n",
    "        xaxis = 'tsne_x'\n",
    "        yaxis = 'tsne_y'\n",
    "    elif DR_method == 'UMAP':\n",
    "        xaxis = 'umap_x'\n",
    "        yaxis = 'umap_y'\n",
    "        \n",
    "    fig = px.scatter(df, x=xaxis, y=yaxis, color=f'km_{km}', hover_data=['Title'], width=900, height=900)\n",
    "    fig.layout.hovermode = 'closest'\n",
    "    fig.data[0].on_click(update_hover)\n",
    "    fig.show()\n",
    "    \n",
    "    wcs = widgets.Dropdown(\n",
    "        options=list(range(km)),\n",
    "        value = 0,\n",
    "        description=\"Selected class:\"\n",
    "    )\n",
    "    interact(word_cloud, wcs=wcs)\n",
    "\n",
    "def word_cloud(wcs=wcs):\n",
    "    text = []\n",
    "    for c in df.loc[df[f'km_{km.value}'] == str(wcs)]['Content']:\n",
    "        text.extend(eval(c))\n",
    "    text = \" \".join(text)\n",
    "    img = wc.generate(text)\n",
    "    fig = px.imshow(img, width=1000, height=800)\n",
    "    fig.update_traces(hovertemplate=None, hoverinfo='skip')\n",
    "    fig.show()"
   ]
  },
  {
   "cell_type": "code",
   "execution_count": null,
   "id": "bbd39b53",
   "metadata": {},
   "outputs": [],
   "source": []
  },
  {
   "cell_type": "code",
   "execution_count": 81,
   "id": "65568760",
   "metadata": {
    "collapsed": true,
    "scrolled": false
   },
   "outputs": [
    {
     "data": {
      "application/vnd.jupyter.widget-view+json": {
       "model_id": "83ca7ce77ad849aabdfa5f5aed622278",
       "version_major": 2,
       "version_minor": 0
      },
      "text/plain": [
       "interactive(children=(Dropdown(description='Selected class:', options=(0, 1, 2, 3, 4, 5, 6, 7, 8, 9), value=0)…"
      ]
     },
     "metadata": {},
     "output_type": "display_data"
    }
   ],
   "source": [
    "layout = widgets.Layout(width='auto', height='40px') #set width and height\n",
    "wcs = widgets.Dropdown(\n",
    "    options=list(range(km.value)),\n",
    "    value = 0,\n",
    "    description=\"Selected class:\"\n",
    ")\n",
    "wc = WordCloud(background_color=\"white\", repeat=False, width=1000, height=800)\n",
    "\n",
    "def word_cloud(km, wcs):\n",
    "    text = []\n",
    "    for c in df.loc[df[f'km_{km}'] == str(wcs)]['Content']:\n",
    "        text.extend(eval(c))\n",
    "    #text = \"\".join(df.loc[df[f'km_{km.value}'] == str(wcs)]['Content'])\n",
    "    text = \" \".join(text)\n",
    "    img = wc.generate(text)\n",
    "    fig = px.imshow(img, width=1000, height=800)\n",
    "    fig.update_traces(hovertemplate=None, hoverinfo='skip')\n",
    "    fig.show()"
   ]
  },
  {
   "cell_type": "code",
   "execution_count": 64,
   "id": "b4efb74c",
   "metadata": {
    "scrolled": false
   },
   "outputs": [
    {
     "ename": "SyntaxError",
     "evalue": "iterable unpacking cannot be used in comprehension (<ipython-input-64-af9678ef0165>, line 1)",
     "output_type": "error",
     "traceback": [
      "\u001b[1;36m  File \u001b[1;32m\"<ipython-input-64-af9678ef0165>\"\u001b[1;36m, line \u001b[1;32m1\u001b[0m\n\u001b[1;33m    [*eval(c) for c in df.loc[df[f'km_{9}'] == str(5)]['Content']]\u001b[0m\n\u001b[1;37m     ^\u001b[0m\n\u001b[1;31mSyntaxError\u001b[0m\u001b[1;31m:\u001b[0m iterable unpacking cannot be used in comprehension\n"
     ]
    }
   ],
   "source": [
    "[eval(c) ]"
   ]
  }
 ],
 "metadata": {
  "kernelspec": {
   "display_name": "Python 3 (ipykernel)",
   "language": "python",
   "name": "python3"
  },
  "language_info": {
   "codemirror_mode": {
    "name": "ipython",
    "version": 3
   },
   "file_extension": ".py",
   "mimetype": "text/x-python",
   "name": "python",
   "nbconvert_exporter": "python",
   "pygments_lexer": "ipython3",
   "version": "3.9.7"
  }
 },
 "nbformat": 4,
 "nbformat_minor": 5
}
